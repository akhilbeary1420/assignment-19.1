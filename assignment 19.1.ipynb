{
 "cells": [
  {
   "cell_type": "code",
   "execution_count": 1,
   "metadata": {},
   "outputs": [
    {
     "name": "stderr",
     "output_type": "stream",
     "text": [
      "C:\\Users\\user\\Anaconda3\\lib\\site-packages\\ipykernel_launcher.py:17: DeprecationWarning: \n",
      ".ix is deprecated. Please use\n",
      ".loc for label based indexing or\n",
      ".iloc for positional indexing\n",
      "\n",
      "See the documentation here:\n",
      "http://pandas.pydata.org/pandas-docs/stable/indexing.html#ix-indexer-is-deprecated\n",
      "C:\\Users\\user\\Anaconda3\\lib\\site-packages\\ipykernel_launcher.py:21: DeprecationWarning: \n",
      ".ix is deprecated. Please use\n",
      ".loc for label based indexing or\n",
      ".iloc for positional indexing\n",
      "\n",
      "See the documentation here:\n",
      "http://pandas.pydata.org/pandas-docs/stable/indexing.html#ix-indexer-is-deprecated\n"
     ]
    },
    {
     "name": "stdout",
     "output_type": "stream",
     "text": [
      "*************** Dataset *************** \n",
      "         High School  Bachelors  Masters  Ph.d.  Total\n",
      "Female           60         54       46     41    201\n",
      "Male             40         44       53     57    194\n",
      "Total           100         98       99     98    395\n",
      "*************** Expected Dataset *************** \n",
      "         High School  Bachelors    Masters      Ph.d.\n",
      "Female    50.886076  49.868354  50.377215  49.868354\n",
      "Male      49.113924  48.131646  48.622785  48.131646\n",
      "\n",
      " Chi_Squared _stat:  8.006066246262538\n",
      "\n",
      " *Note: We call .sum() twice: once to get the column sums and a second time to add the column sums together, returning the sum of the entire 2D table.\n",
      "\n",
      "\n",
      "Critical value\n",
      "15.50731305586545\n",
      "\n",
      "P value\n",
      "0.4328777735428708\n",
      "\n",
      "Df=3\n",
      "\n",
      "*Note: The degrees of freedom for a test of independence equals the product of the number of categories in each variable minus 1. In this case we have a 4x2 table so df = 3x1 = 3.\n",
      "As with the goodness-of-fit test, we can use scipy to conduct a test of independence quickly. Use stats.chi2_contingency() function to conduct a test of independence automatically given a frequency table of observed counts:\n",
      "      \n",
      "\n",
      " (8.006066246262538, 0.045886500891747214, 3, array([[50.88607595, 49.86835443, 50.37721519, 49.86835443],\n",
      "       [49.11392405, 48.13164557, 48.62278481, 48.13164557]]))\n",
      "From above we conclude  that the education level depends on gender at a 5% level of significance.\n"
     ]
    }
   ],
   "source": [
    "\n",
    "import numpy as np\n",
    "import pandas as pd\n",
    "import scipy.stats as stats\n",
    "\n",
    "#Create dataframe first\n",
    "Hs=np.array([60,40,100])\n",
    "Bs =np.array([54,44,98])\n",
    "Ms=np.array([46,53,99])\n",
    "Pd=np.array([41,57,98])\n",
    "Totl=np.array([201,194,395])\n",
    "\n",
    "Dataset= pd.DataFrame({\"High School\":Hs,\"Bachelors\":Bs, \"Masters\":Ms, \"Ph.d.\":Pd, \"Total\":Totl})\n",
    "Dataset.index =[\"Female\",\"Male\",\"Total\"]\n",
    "#Dataset is created for data analysis\n",
    "\n",
    "observed = Dataset.ix[0:2,0:4]   # Get table without totals for later use\n",
    "print(\"*\"*15,\"Dataset\",\"*\"*15,\"\\n\",Dataset)\n",
    "#Create Expected Dataset\n",
    "expected =  np.outer(Dataset[\"Total\"][0:2],\n",
    "                     Dataset.ix[\"Total\"][0:4]) / 395\n",
    "expected = pd.DataFrame(expected)\n",
    "                     \n",
    "expected.columns = [\"High School\",\"Bachelors\", \"Masters\", \"Ph.d.\"]\n",
    "expected.index = [\"Female\",\"Male\"]   \n",
    "#Expected Dataset Created\n",
    "print(\"*\"*15,\"Expected Dataset\",\"*\"*15,\"\\n\",expected)\n",
    "\n",
    "chi_squared_stat = (((observed-expected)**2)/expected).sum().sum()\n",
    "\n",
    "print(\"\\n Chi_Squared _stat: \",chi_squared_stat)      \n",
    "print(\"\\n *Note: We call .sum() twice: once to get the column sums and a second time to add the column sums together, returning the sum of the entire 2D table.\")\n",
    "\n",
    "crit = stats.chi2.ppf(q = 0.95, # Find the critical value for 5% of segnificant level*\n",
    "                      df = 8)   # *\n",
    "\n",
    "print(\"\\n\\nCritical value\")\n",
    "print(crit)\n",
    "\n",
    "p_value = 1 - stats.chi2.cdf(x=chi_squared_stat,  # Find the p-value\n",
    "                             df=8)\n",
    "print(\"\\nP value\")\n",
    "print(p_value)\n",
    "print(\"\\nDf=3\")          \n",
    "print(\"\"\"\\n*Note: The degrees of freedom for a test of independence equals the product of the number of categories in each variable minus 1. In this case we have a 4x2 table so df = 3x1 = 3.\n",
    "As with the goodness-of-fit test, we can use scipy to conduct a test of independence quickly. Use stats.chi2_contingency() function to conduct a test of independence automatically given a frequency table of observed counts:\n",
    "      \"\"\")   \n",
    "\n",
    "print(\"\\n\",stats.chi2_contingency(observed= observed))\n",
    "\n",
    "print(\"From above we conclude  that the education level depends on gender at a 5% level of significance.\")"
   ]
  },
  {
   "cell_type": "code",
   "execution_count": null,
   "metadata": {},
   "outputs": [],
   "source": []
  }
 ],
 "metadata": {
  "kernelspec": {
   "display_name": "Python 3",
   "language": "python",
   "name": "python3"
  },
  "language_info": {
   "codemirror_mode": {
    "name": "ipython",
    "version": 3
   },
   "file_extension": ".py",
   "mimetype": "text/x-python",
   "name": "python",
   "nbconvert_exporter": "python",
   "pygments_lexer": "ipython3",
   "version": "3.6.5"
  }
 },
 "nbformat": 4,
 "nbformat_minor": 2
}
